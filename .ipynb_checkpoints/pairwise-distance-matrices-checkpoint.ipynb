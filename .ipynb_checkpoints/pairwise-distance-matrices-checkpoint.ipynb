{
 "cells": [
  {
   "cell_type": "markdown",
   "metadata": {},
   "source": [
    "# Audio analysis with Python"
   ]
  },
  {
   "cell_type": "markdown",
   "metadata": {},
   "source": [
    "## Lesson 1: Pairwise distance matrices"
   ]
  },
  {
   "cell_type": "markdown",
   "metadata": {},
   "source": [
    "In this lesson, we're "
   ]
  },
  {
   "cell_type": "code",
   "execution_count": null,
   "metadata": {
    "collapsed": true
   },
   "outputs": [],
   "source": [
    "from IPython.display import Image, display\n",
    "display(Image(filename=))"
   ]
  },
  {
   "cell_type": "code",
   "execution_count": 4,
   "metadata": {
    "collapsed": true
   },
   "outputs": [],
   "source": [
    "import matplotlib.pyplot as plt\n",
    "import numpy as np\n",
    "import librosa\n",
    "%matplotlib inline"
   ]
  },
  {
   "cell_type": "code",
   "execution_count": 5,
   "metadata": {
    "collapsed": true
   },
   "outputs": [],
   "source": [
    "\n",
    "import scipy.spatial.distance as ssd\n",
    "import pydub.utils\n",
    "\n"
   ]
  },
  {
   "cell_type": "code",
   "execution_count": null,
   "metadata": {
    "collapsed": true
   },
   "outputs": [],
   "source": [
    "audio_filename = \"./\""
   ]
  },
  {
   "cell_type": "code",
   "execution_count": null,
   "metadata": {
    "collapsed": true
   },
   "outputs": [],
   "source": [
    "original_sample_rate = int(pydub.utils.mediainfo(audio_filename)['sample_rate'])    "
   ]
  },
  {
   "cell_type": "code",
   "execution_count": null,
   "metadata": {
    "collapsed": true
   },
   "outputs": [],
   "source": [
    "def get_features(mp3_filename):\n",
    "    \"\"\" String -> {amplitude: Array Float, spectrogram: 2D Array Float, m: 2D Array Float}\n",
    "        ---\n",
    "        Return dictionary with amplitude array, spectrogram matrix, and mfcc-based matrix. \n",
    "    \"\"\"\n",
    "    original_sample_rate = int(pydub.utils.mediainfo(mp3_filename)['sample_rate'])    \n",
    "    y, sr = librosa.load(mp3_filename, sr = original_sample_rate) # Use original sample rate to avoid (slow) resampling\n",
    "    S = librosa.feature.melspectrogram(y, sr=sr, n_mels=128)\n",
    "    log_S = librosa.logamplitude(S, ref_power=np.max)\n",
    "\n",
    "    mfcc        = librosa.feature.mfcc(S=log_S, n_mfcc=13)\n",
    "    delta_mfcc  = librosa.feature.delta(mfcc)\n",
    "    delta2_mfcc = librosa.feature.delta(mfcc, order=2)\n",
    "    M = np.vstack([mfcc, delta_mfcc, delta2_mfcc])\n",
    "    \n",
    "    chroma = librosa.feature.chroma_cqt(y = y, sr = sr)\n",
    "    \n",
    "    return dict(\n",
    "        amplitude = log_S.sum(axis = 0),\n",
    "        spectrogram = log_S,\n",
    "        chroma = chroma,\n",
    "        m = M\n",
    "    )"
   ]
  }
 ],
 "metadata": {
  "kernelspec": {
   "display_name": "Python [Root]",
   "language": "python",
   "name": "Python [Root]"
  },
  "language_info": {
   "codemirror_mode": {
    "name": "ipython",
    "version": 2
   },
   "file_extension": ".py",
   "mimetype": "text/x-python",
   "name": "python",
   "nbconvert_exporter": "python",
   "pygments_lexer": "ipython2",
   "version": "2.7.13"
  }
 },
 "nbformat": 4,
 "nbformat_minor": 2
}
